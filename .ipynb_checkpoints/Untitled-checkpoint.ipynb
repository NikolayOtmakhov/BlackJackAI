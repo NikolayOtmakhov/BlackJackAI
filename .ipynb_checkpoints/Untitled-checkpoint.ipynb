{
 "cells": [
  {
   "cell_type": "code",
   "execution_count": 16,
   "metadata": {},
   "outputs": [
    {
     "name": "stdout",
     "output_type": "stream",
     "text": [
      "0\n",
      "700\n",
      "800\n"
     ]
    }
   ],
   "source": [
    "import deck\n",
    "import player\n",
    "import pandas as pd\n",
    "\n",
    "# create deck and player\n",
    "d = deck.Deck()\n",
    "pl = player.Player()\n",
    "\n",
    "\n",
    "class mem:\n",
    "    count = 0\n",
    "    aces = 0\n",
    "    used_aces = 0\n",
    "    value = 0\n",
    "    result = 0\n",
    "    save_value = 0\n",
    "    cards = 0\n",
    "\n",
    "\n",
    "def give_player_card_and_count():\n",
    "    card = d.take_card()\n",
    "    value = card.value\n",
    "    mem.value = pl.card_value_total()\n",
    "    mem.cards += 1\n",
    "    if value > 9:\n",
    "        mem.count -= 1\n",
    "    if value < 7:\n",
    "        mem.count += 1\n",
    "    if value == 11:\n",
    "        mem.aces += 1\n",
    "    pl.give_card(card)\n",
    "\n",
    "df = pd.DataFrame(columns = [\"Count\", \"Aces\" ,\"Cards\", \"Value\" , \"Result\"] )\n",
    "# df = pd.read_csv(\"file1.csv\", index_col=0)\n",
    "\n",
    "\n",
    "data_entries = 0\n",
    "while data_entries < 1000:\n",
    "    give_player_card_and_count()\n",
    "    give_player_card_and_count()\n",
    "    while mem.value < 22:\n",
    "        if data_entries % 100 == 0:\n",
    "            print(data_entries)\n",
    "        mem.result = 0\n",
    "        mem.save_value = mem.value\n",
    "        give_player_card_and_count()\n",
    "        if mem.value < 22 and mem.value >= mem.save_value:\n",
    "            mem.result = 1\n",
    "#         print(f\"{mem.value} {mem.save_value}\")\n",
    "        if mem.value < 22 and mem.value < mem.save_value:\n",
    "            mem.used_aces += 1\n",
    "            result_temp = 0.5\n",
    "            if mem.save_value == 21:\n",
    "                result_temp = 0\n",
    "            elif mem.save_value < 14:\n",
    "                result_temp = 1\n",
    "            else:\n",
    "                result_temp = 0.5 - (mem.save_value - mem.value)*0.1\n",
    "                if result_temp < 0:\n",
    "                    result_temp = 0\n",
    "                if mem.used_aces < mem.aces:\n",
    "                    result_temp = 0.5\n",
    "            mem.result = result_temp\n",
    "        df.loc[len(df)] =([mem.count, mem.aces, mem.cards, mem.save_value , mem.result ])\n",
    "        data_entries += 1\n",
    "        if d.cards_left() < 20:\n",
    "            d = deck.Deck()\n",
    "            mem.count = 0\n",
    "    mem.value = 0\n",
    "    mem.aces = 0\n",
    "    mem.result = 0\n",
    "    mem.cards = 0\n",
    "    mem.used_aces = 0\n",
    "    pl.init_or_reset_hand()\n",
    "    \n",
    "\n"
   ]
  },
  {
   "cell_type": "code",
   "execution_count": 21,
   "metadata": {},
   "outputs": [
    {
     "data": {
      "text/plain": [
       "array([1, 0, 0.4, 0.09999999999999998, 0.3, 0.5, 0.19999999999999996],\n",
       "      dtype=object)"
      ]
     },
     "execution_count": 21,
     "metadata": {},
     "output_type": "execute_result"
    }
   ],
   "source": [
    "df[\"Result\"].unique()"
   ]
  },
  {
   "cell_type": "code",
   "execution_count": null,
   "metadata": {},
   "outputs": [],
   "source": []
  }
 ],
 "metadata": {
  "kernelspec": {
   "display_name": "Python 3",
   "language": "python",
   "name": "python3"
  },
  "language_info": {
   "codemirror_mode": {
    "name": "ipython",
    "version": 3
   },
   "file_extension": ".py",
   "mimetype": "text/x-python",
   "name": "python",
   "nbconvert_exporter": "python",
   "pygments_lexer": "ipython3",
   "version": "3.7.2"
  }
 },
 "nbformat": 4,
 "nbformat_minor": 2
}
